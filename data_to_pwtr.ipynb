{
 "cells": [
  {
   "cell_type": "code",
   "execution_count": 2,
   "metadata": {},
   "outputs": [],
   "source": [
    "from lazypredict.Supervised import LazyRegressor\n",
    "import pandas as pd\n",
    "from sklearn import datasets\n",
    "from sklearn.utils import shuffle\n",
    "import numpy as np\n",
    "from sklearn.preprocessing import (LabelEncoder, StandardScaler, \n",
    "                                   PowerTransformer, QuantileTransformer, \n",
    "                                   OrdinalEncoder, OneHotEncoder, MinMaxScaler)\n",
    "from sklearn.metrics import *\n",
    "from sklearn.model_selection import (cross_val_score, cross_validate, \n",
    "                                     GridSearchCV, KFold, \n",
    "                                     RandomizedSearchCV, train_test_split,\n",
    "                                     learning_curve, LearningCurveDisplay)\n",
    "from sklearn.utils.estimator_checks import check_estimator\n",
    "from sklearn.linear_model import LinearRegression\n",
    "import matplotlib.pyplot as plt\n",
    "import pickle\n",
    "import shap\n",
    "import seaborn as sns\n",
    "import math\n",
    "from scipy.stats import randint, uniform\n",
    "# esto para destransformar features del boxcox\n",
    "def inverse_bc(scaler, feature, position):\n",
    "    if scaler.lambdas_[position] == 0:\n",
    "        return np.exp(feature)\n",
    "    else:\n",
    "        return (feature * scaler.lambdas_[position] + 1) ** (1 / scaler.lambdas__[position])\n"
   ]
  },
  {
   "cell_type": "code",
   "execution_count": 11,
   "metadata": {},
   "outputs": [],
   "source": [
    "data = pd.read_csv(\"data_model_complete.csv\")\n",
    "\n",
    "data_model_pwtr = data.copy()\n",
    "\n",
    "\n",
    "toscale_features = ['Ncasos','sars_loess']\n",
    "\n",
    "# for any reason i get negative 0s in some rows || plus i cannot use powertransform with 0s, i change to .1s\n",
    "data_model_pwtr[toscale_features] = data_model_pwtr[toscale_features].applymap(lambda x: 1 if x <= 0 else x)\n",
    "\n",
    "pow_scaler = PowerTransformer(method='box-cox')\n",
    "\n",
    "data_model_pwtr[['Ncasos_pwtr', 'sars_pwtr']] = pow_scaler.fit_transform(data_model_pwtr[toscale_features])"
   ]
  },
  {
   "cell_type": "code",
   "execution_count": 13,
   "metadata": {},
   "outputs": [
    {
     "data": {
      "text/plain": [
       "Index(['Week', 'Mun', 'Ncasos', 'Year', 'Ncasos_lead', 'Ncasos_lag',\n",
       "       'Ncasos_lagroll_15', 'Ncasos_lagroll_30', 'EDAR', 'nHab', 'N1', 'N2',\n",
       "       'IP4', 'E', 'caudal', 'lluvia', 'Fecha', 'sars2', 'sars', 'n1_fill',\n",
       "       'f_num', 'n1_loess', 'n1_loess_15', 'n1_loess_30', 'sars_loess',\n",
       "       'sars_loess_15', 'sars_loess_30', 'sars2_loess', 'sars2_loess_15',\n",
       "       'sars2_loess_30', 'Month'],\n",
       "      dtype='object')"
      ]
     },
     "execution_count": 13,
     "metadata": {},
     "output_type": "execute_result"
    }
   ],
   "source": [
    "data.columns"
   ]
  },
  {
   "cell_type": "code",
   "execution_count": 16,
   "metadata": {},
   "outputs": [],
   "source": [
    "data_pwtr = data_model_pwtr[toscale_features + ['Ncasos_pwtr', 'sars_pwtr', 'nHab']] # por si me sigue dando por usar los habitantes en la vaina\n",
    "data_pwtr.to_csv('data_model_pwtr.csv')"
   ]
  }
 ],
 "metadata": {
  "kernelspec": {
   "display_name": ".venv",
   "language": "python",
   "name": "python3"
  },
  "language_info": {
   "codemirror_mode": {
    "name": "ipython",
    "version": 3
   },
   "file_extension": ".py",
   "mimetype": "text/x-python",
   "name": "python",
   "nbconvert_exporter": "python",
   "pygments_lexer": "ipython3",
   "version": "3.10.12"
  }
 },
 "nbformat": 4,
 "nbformat_minor": 2
}
